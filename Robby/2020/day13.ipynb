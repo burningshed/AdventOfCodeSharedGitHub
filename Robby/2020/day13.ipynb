{
 "cells": [
  {
   "cell_type": "code",
   "execution_count": 3,
   "metadata": {},
   "outputs": [],
   "source": [
    "import sys\r\n",
    "import importlib\r\n",
    "import numpy as np\r\n",
    "u_path = \"../lib\"\r\n",
    "if not u_path in sys.path:\r\n",
    "    sys.path.append(u_path)\r\n",
    "import autoloader\r\n",
    "importlib.reload(autoloader)\r\n",
    "al = autoloader.Autoloader()"
   ]
  },
  {
   "cell_type": "code",
   "execution_count": 4,
   "metadata": {},
   "outputs": [],
   "source": [
    "d13data = al.f_fetch_as_iter(2020, 13)\r\n"
   ]
  },
  {
   "cell_type": "code",
   "execution_count": 89,
   "metadata": {},
   "outputs": [],
   "source": [
    "tdata1 = \"\"\"939\r\n",
    "7,13,x,x,59,x,31,19\"\"\"\r\n",
    "tdata1 = tdata1.splitlines()\r\n",
    "tdata2 = \"\"\"939\r\n",
    "x,x,3,5\"\"\"\r\n",
    "tdata2 = tdata2.splitlines()"
   ]
  },
  {
   "cell_type": "markdown",
   "metadata": {},
   "source": [
    "I think this is an application of the CRT.\r\n",
    "let x be the solution.\r\n",
    "x mod a0 = 0\r\n",
    "x mod a1 = 1\r\n",
    "....\r\n",
    "x mod an = n - number of skipped busses\r\n",
    "\r\n",
    "so the bus IDs are probably relatively prime, the position on the list is the remainder (a_k)\r\n",
    "\r\n",
    "M_k is the product of all bus IDs except for the kth\r\n",
    "y_k satisfies M_k y_k \\congruent 1 (mod m_k)\r\n",
    "\r\n",
    "x = a_1 M_1 y_1 + ... + a_n M_n y_n\r\n"
   ]
  },
  {
   "cell_type": "code",
   "execution_count": 178,
   "metadata": {},
   "outputs": [],
   "source": [
    "class d13():\r\n",
    "    def __init__(self, sched):\r\n",
    "        self.time = int(sched[0])\r\n",
    "        self.bus_list = {}\r\n",
    "        for ii, bus in enumerate(sched[1].split(',')):\r\n",
    "            if bus == 'x':\r\n",
    "                continue\r\n",
    "            self.bus_list[int(bus)] = int(bus) - (ii%int(bus))\r\n",
    "\r\n",
    "        \r\n",
    "    def find_first_bus(self):\r\n",
    "        cur_bus_status = {bus: bus - self.time%bus for bus in self.bus_list}\r\n",
    "        first_bus = min(cur_bus_status, key=cur_bus_status.get)\r\n",
    "        return first_bus * cur_bus_status[first_bus]\r\n",
    "    \r\n",
    "    def find_part2_sol(self):\r\n",
    "        # bus ID is the relative prime, offset is the remainder\r\n",
    "        sched = np.array([(p,self.bus_list[p]) for p in self.bus_list], dtype=int)\r\n",
    "        return CRT(sched)\r\n",
    "\r\n",
    "\r\n",
    "\r\n",
    "def CRT(p_r_pairs) -> int:\r\n",
    "    from itertools import repeat\r\n",
    "    \"\"\" \r\n",
    "    Function takes a numpy array of relatively prime numbers and the remainders \r\n",
    "    and uses Chinese Remainder Theorem to find the solve the system of linear congruences \r\n",
    "\r\n",
    "    in: p_r_pairs : numpy array in form:\r\n",
    "    ((p0, r0)\r\n",
    "     (p1, r1)\r\n",
    "     ...\r\n",
    "     (pn, rn))\r\n",
    "\r\n",
    "    out: x given\r\n",
    "    X = r0 M0 y0 + ... + rn Mn yn = x (mod M)\r\n",
    "\r\n",
    "    where: \r\n",
    "    Mk = M / pk, \r\n",
    "    yk = pow(Mk, -1, pk) \r\n",
    "        (the inverse modulo) \r\n",
    "    M = prod(p0, ..., pn)\r\n",
    "\r\n",
    "    \"\"\"\r\n",
    "\r\n",
    "    M = np.prod(p_r_pairs[:,0], dtype=np.int64)\r\n",
    "    Mk = np.divide(M, p_r_pairs[:,0]).astype(np.int64)\r\n",
    "    yk = np.fromiter(map(pow, map(int, Mk),repeat(-1),map(int,p_r_pairs[:,0])), dtype=np.int)\r\n",
    "    X = np.sum(p_r_pairs[:,1] * Mk * yk)\r\n",
    "    return X % M\r\n",
    "\r\n",
    "\r\n",
    "\r\n",
    "            "
   ]
  },
  {
   "cell_type": "code",
   "execution_count": 172,
   "metadata": {},
   "outputs": [
    {
     "name": "stdout",
     "output_type": "stream",
     "text": [
      "{7: 7, 13: 12, 59: 55, 31: 25, 19: 12}\n",
      "1068781\n"
     ]
    }
   ],
   "source": [
    "test = d13(tdata1)\r\n",
    "print(test.bus_list)\r\n",
    "print(test.find_part2_sol())\r\n",
    "\r\n"
   ]
  },
  {
   "cell_type": "code",
   "execution_count": 179,
   "metadata": {},
   "outputs": [
    {
     "name": "stdout",
     "output_type": "stream",
     "text": [
      "{19: 19, 41: 32, 823: 804, 23: 19, 17: 15, 29: 10, 443: 393, 37: 18, 13: 2}\n",
      "1058443396696792\n"
     ]
    }
   ],
   "source": [
    "test = d13(d13data)\r\n",
    "print(test.bus_list)\r\n",
    "print(test.find_part2_sol())\r\n",
    "\r\n"
   ]
  },
  {
   "cell_type": "code",
   "execution_count": 168,
   "metadata": {},
   "outputs": [
    {
     "data": {
      "text/plain": "6"
     },
     "execution_count": 168,
     "metadata": {},
     "output_type": "execute_result"
    }
   ],
   "source": [
    "a = np.array(((3,2),(5,3),(7,2)))\r\n",
    "ans = 1068781\r\n",
    "31 - (ans % 31)"
   ]
  },
  {
   "cell_type": "code",
   "execution_count": 160,
   "metadata": {},
   "outputs": [
    {
     "name": "stdout",
     "output_type": "stream",
     "text": [
      "2215\n"
     ]
    }
   ],
   "source": [
    "test = d13(d13data)\r\n",
    "print(test.find_first_bus())\r\n",
    "\r\n"
   ]
  }
 ],
 "metadata": {
  "kernelspec": {
   "display_name": "Python 3",
   "language": "python",
   "name": "python3"
  },
  "language_info": {
   "codemirror_mode": {
    "name": "ipython",
    "version": 3
   },
   "file_extension": ".py",
   "mimetype": "text/x-python",
   "name": "python",
   "nbconvert_exporter": "python",
   "pygments_lexer": "ipython3",
   "version": "3.8.5"
  },
  "orig_nbformat": 2
 },
 "nbformat": 4,
 "nbformat_minor": 2
}