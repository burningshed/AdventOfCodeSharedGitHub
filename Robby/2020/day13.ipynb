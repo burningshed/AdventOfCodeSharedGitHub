{
 "cells": [
  {
   "cell_type": "code",
   "execution_count": 20,
   "metadata": {},
   "outputs": [],
   "source": [
    "import sys\r\n",
    "import importlib\r\n",
    "import numpy as np\r\n",
    "u_path = \"../lib\"\r\n",
    "if not u_path in sys.path:\r\n",
    "    sys.path.append(u_path)\r\n",
    "import autoloader\r\n",
    "importlib.reload(autoloader)\r\n",
    "al = autoloader.Autoloader()"
   ]
  },
  {
   "cell_type": "code",
   "execution_count": null,
   "metadata": {},
   "outputs": [],
   "source": [
    "d13data = al.f_fetch_as_iter(2020, 13)\r\n"
   ]
  },
  {
   "cell_type": "code",
   "execution_count": null,
   "metadata": {},
   "outputs": [],
   "source": [
    "tdata1 = \"\"\"939\n",
    "7,13,x,x,59,x,31,19\"\"\""
   ]
  },
  {
   "cell_type": "code",
   "execution_count": null,
   "metadata": {},
   "outputs": [],
   "source": [
    "class d13():\n",
    "    def __init__(self, sched):\n",
    "        self.time = int(sched[0])\n",
    "        self.bus_list = set{}\n",
    "        for bus in sched[1].split(','):\n",
    "            if bus = 'x':\n",
    "                continue\n",
    "            self.bus_list.add(int(bus))\n",
    "        \n",
    "    def find_first_bus(self):\n",
    "        cur_bus_status = {bus: self.time%bus for bus in self.bus_list}\n",
    "        first_bus = min(cur_bus_status, key=cur_bus_status.get)\n",
    "        return first_bus * cur_bus_status[first_bus]\n",
    "        \n",
    "\n",
    "\n",
    "\n",
    "\n",
    "\n",
    "\n",
    "\n",
    "            "
   ]
  },
  {
   "cell_type": "code",
   "execution_count": null,
   "metadata": {},
   "outputs": [],
   "source": [
    "test = d13(tdata1)\n",
    "print(test.find_first_bus())\n"
   ]
  }
 ],
 "metadata": {
  "kernelspec": {
   "display_name": "Python 3",
   "language": "python",
   "name": "python3"
  },
  "language_info": {
   "codemirror_mode": {
    "name": "ipython",
    "version": 3
   },
   "file_extension": ".py",
   "mimetype": "text/x-python",
   "name": "python",
   "nbconvert_exporter": "python",
   "pygments_lexer": "ipython3",
   "version": "3.8.5"
  },
  "orig_nbformat": 2
 },
 "nbformat": 4,
 "nbformat_minor": 2
}