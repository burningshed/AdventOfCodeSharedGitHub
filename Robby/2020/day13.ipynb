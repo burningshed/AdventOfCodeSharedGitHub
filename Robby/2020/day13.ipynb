{
 "cells": [
  {
   "cell_type": "code",
   "execution_count": 184,
   "metadata": {},
   "outputs": [],
   "source": [
    "import sys\r\n",
    "import importlib\r\n",
    "import numpy as np\r\n",
    "u_path = \"../lib\"\r\n",
    "if not u_path in sys.path:\r\n",
    "    sys.path.append(u_path)\r\n",
    "import autoloader\r\n",
    "importlib.reload(autoloader)\r\n",
    "al = autoloader.Autoloader()"
   ]
  },
  {
   "cell_type": "code",
   "execution_count": 4,
   "metadata": {},
   "outputs": [],
   "source": [
    "d13data = al.f_fetch_as_iter(2020, 13)\r\n"
   ]
  },
  {
   "cell_type": "code",
   "execution_count": 253,
   "metadata": {},
   "outputs": [],
   "source": [
    "tdata1 = \"\"\"939\r\n",
    "7,13,x,x,59,x,31,19\"\"\"\r\n",
    "tdata1 = tdata1.splitlines()\r\n",
    "tdata2 = \"\"\"939\r\n",
    "2,3,5,7\"\"\"\r\n",
    "tdata2 = tdata2.splitlines()\r\n",
    "tdata3 = \"\"\"939\r\n",
    "2,3,5,7,x,19\"\"\"\r\n",
    "tdata3 = tdata3.splitlines()"
   ]
  },
  {
   "cell_type": "markdown",
   "metadata": {},
   "source": [
    "I think this is an application of the CRT.\r\n",
    "let x be the solution.\r\n",
    "x mod a0 = 0\r\n",
    "x mod a1 = 1\r\n",
    "....\r\n",
    "x mod an = n - number of skipped busses\r\n",
    "\r\n",
    "so the bus IDs are probably relatively prime, the position on the list is the remainder (a_k)\r\n",
    "\r\n",
    "M_k is the product of all bus IDs except for the kth\r\n",
    "y_k satisfies M_k y_k \\congruent 1 (mod m_k)\r\n",
    "\r\n",
    "x = a_1 M_1 y_1 + ... + a_n M_n y_n\r\n"
   ]
  },
  {
   "cell_type": "code",
   "execution_count": 245,
   "metadata": {},
   "outputs": [],
   "source": [
    "class d13():\r\n",
    "    def __init__(self, sched):\r\n",
    "        self.time = int(sched[0])\r\n",
    "        self.bus_list = {}\r\n",
    "        for ii, bus in enumerate(sched[1].split(',')):\r\n",
    "            if bus == 'x':\r\n",
    "                continue\r\n",
    "            self.bus_list[int(bus)] = int(bus) - (ii%int(bus))\r\n",
    "\r\n",
    "        \r\n",
    "    def find_first_bus(self):\r\n",
    "        cur_bus_status = {bus: bus - self.time%bus for bus in self.bus_list}\r\n",
    "        first_bus = min(cur_bus_status, key=cur_bus_status.get)\r\n",
    "        return first_bus * cur_bus_status[first_bus]\r\n",
    "    \r\n",
    "    def find_part2_sol(self):\r\n",
    "        # bus ID is the relative prime, offset is the remainder\r\n",
    "        sched = np.array([(p,self.bus_list[p]) for p in self.bus_list], dtype=int)\r\n",
    "        return CRT(sched)\r\n",
    "\r\n",
    "\r\n",
    "\r\n",
    "def CRT(p_r_pairs) -> int:\r\n",
    "    from itertools import repeat\r\n",
    "    \"\"\" \r\n",
    "    Function takes a numpy array of relatively prime numbers and the remainders \r\n",
    "    and uses Chinese Remainder Theorem to find the solve the system of linear congruences \r\n",
    "\r\n",
    "    in: p_r_pairs : numpy array in form:\r\n",
    "    ((p0, r0)\r\n",
    "     (p1, r1)\r\n",
    "     ...\r\n",
    "     (pn, rn))\r\n",
    "\r\n",
    "    out: x given\r\n",
    "    X = r0 M0 y0 + ... + rn Mn yn = x (mod M)\r\n",
    "\r\n",
    "    where: \r\n",
    "    Mk = M / pk, \r\n",
    "    yk = pow(Mk, -1, pk) \r\n",
    "        (the inverse modulo) \r\n",
    "    M = prod(p0, ..., pn)\r\n",
    "\r\n",
    "    \"\"\"\r\n",
    "\r\n",
    "    M = np.prod(p_r_pairs[:,0], dtype=np.int64)\r\n",
    "    Mk = np.divide(M, p_r_pairs[:,0]).astype(np.int64)\r\n",
    "    yk = np.fromiter(map(pow, map(int, Mk),repeat(-1),map(int,p_r_pairs[:,0])), dtype=np.int)\r\n",
    "    X = np.sum(p_r_pairs[:,1] * Mk * yk)\r\n",
    "    return X % M\r\n",
    "\r\n",
    "\r\n",
    "\r\n",
    "            "
   ]
  },
  {
   "cell_type": "code",
   "execution_count": 254,
   "metadata": {},
   "outputs": [
    {
     "name": "stdout",
     "output_type": "stream",
     "text": [
      "11.632911392405063\n",
      "1058443396696792 158 1838\n"
     ]
    }
   ],
   "source": [
    "test1 = d13(tdata1)\r\n",
    "t1ans = test.find_part2_sol()\r\n",
    "test2 = d13(tdata2)\r\n",
    "t2ans = test2.find_part2_sol()\r\n",
    "test3 = d13(tdata3)\r\n",
    "t3ans = test3.find_part2_sol()\r\n",
    "print(t3ans/t2ans)\r\n",
    "print(t1ans, t2ans, t3ans)\r\n",
    "\r\n"
   ]
  },
  {
   "cell_type": "code",
   "execution_count": 179,
   "metadata": {},
   "outputs": [
    {
     "name": "stdout",
     "output_type": "stream",
     "text": [
      "{19: 19, 41: 32, 823: 804, 23: 19, 17: 15, 29: 10, 443: 393, 37: 18, 13: 2}\n",
      "1058443396696792\n"
     ]
    }
   ],
   "source": [
    "test = d13(d13data)\r\n",
    "print(test.bus_list)\r\n",
    "print(test.find_part2_sol())\r\n",
    "\r\n"
   ]
  },
  {
   "cell_type": "code",
   "execution_count": 168,
   "metadata": {},
   "outputs": [
    {
     "data": {
      "text/plain": "6"
     },
     "execution_count": 168,
     "metadata": {},
     "output_type": "execute_result"
    }
   ],
   "source": [
    "a = np.array(((3,2),(5,3),(7,2)))\r\n",
    "ans = 1068781\r\n",
    "31 - (ans % 31)"
   ]
  },
  {
   "cell_type": "code",
   "execution_count": 160,
   "metadata": {},
   "outputs": [
    {
     "name": "stdout",
     "output_type": "stream",
     "text": [
      "2215\n"
     ]
    }
   ],
   "source": [
    "test = d13(d13data)\r\n",
    "print(test.find_first_bus())\r\n",
    "\r\n"
   ]
  },
  {
   "cell_type": "markdown",
   "metadata": {},
   "source": [
    "Day 14\r\n",
    "------"
   ]
  },
  {
   "cell_type": "code",
   "execution_count": 216,
   "metadata": {},
   "outputs": [],
   "source": [
    "d14data = al.f_fetch_as_iter(2020, 14)\r\n"
   ]
  },
  {
   "cell_type": "code",
   "execution_count": 224,
   "metadata": {},
   "outputs": [],
   "source": [
    "d14tdata1 = \"\"\"mask = XXXXXXXXXXXXXXXXXXXXXXXXXXXXX1XXXX0X\r\n",
    "mem[8] = 11\r\n",
    "mem[7] = 101\r\n",
    "mem[8] = 0\"\"\"\r\n",
    "d14tdata1 = d14tdata1.splitlines()\r\n",
    "d14tdata2 = \"\"\"mask = 000000000000000000000000000000X1001X\r\n",
    "mem[42] = 100\r\n",
    "mask = 00000000000000000000000000000000X0XX\r\n",
    "mem[26] = 1\"\"\"\r\n",
    "d14tdata2 = d14tdata2.splitlines()"
   ]
  },
  {
   "cell_type": "markdown",
   "metadata": {},
   "source": []
  },
  {
   "cell_type": "code",
   "execution_count": 220,
   "metadata": {},
   "outputs": [
    {
     "name": "stdout",
     "output_type": "stream",
     "text": [
      "165\n"
     ]
    }
   ],
   "source": [
    "def line_parse(line):\r\n",
    "    n, _, val = line.split()\r\n",
    "    return n, val\r\n",
    "def val_to_36bitstring(val):\r\n",
    "    val = int(val)\r\n",
    "    bitstring = [0]*36\r\n",
    "    while val > 0:\r\n",
    "        place = np.floor(np.log(val)/np.log(2)).astype(int)\r\n",
    "        bitstring[place] = 1\r\n",
    "        val -= 2**place\r\n",
    "    return bitstring\r\n",
    "def bitstring_to_val(bitstring):\r\n",
    "    val = 0\r\n",
    "    for place, dig in enumerate(bitstring):\r\n",
    "        val += (2**place)*dig\r\n",
    "    return val\r\n",
    "\r\n",
    "\r\n",
    "class space_dock():\r\n",
    "    def __init__(self, bit_mask):\r\n",
    "        self.set_mask(bit_mask)\r\n",
    "        self.mem = dict()\r\n",
    "    def set_mask(self, bit_mask):\r\n",
    "        self.bit_mask = []\r\n",
    "        for bit in bit_mask[::-1]:\r\n",
    "            self.bit_mask.append(bit)\r\n",
    "        \r\n",
    "    def apply_mask(self, val):\r\n",
    "        for ii, bit in enumerate(self.bit_mask):\r\n",
    "            if bit == 'X':\r\n",
    "                continue\r\n",
    "            val[ii] = int(bit)\r\n",
    "        return val\r\n",
    "    def store_mem(self, loc, val):\r\n",
    "        val = val_to_36bitstring(val)\r\n",
    "        #print(\"unmask val: \", [str(v) for v in val])\r\n",
    "        val = self.apply_mask(val)\r\n",
    "        #print(\"  mask    : \", str(self.bit_mask))\r\n",
    "        #print(\"  mask val: \", [str(v) for v in val])\r\n",
    "        self.mem[int(loc)] = val\r\n",
    "    def __abs__(self):\r\n",
    "        tot = 0\r\n",
    "        for loc in self.mem:\r\n",
    "            tot += bitstring_to_val(self.mem[loc])\r\n",
    "        return tot\r\n",
    "\r\n",
    "\r\n",
    "\r\n",
    "def d14(data, version=space_dock):\r\n",
    "    _, mask = line_parse(data[0])\r\n",
    "    sd = version(mask)\r\n",
    "    for line in data[1:]:\r\n",
    "        name, val = line_parse(line)\r\n",
    "        if name == 'mask':\r\n",
    "            sd.set_mask(val)\r\n",
    "        else:\r\n",
    "            _, loc = name.split('[')\r\n",
    "            loc = loc[:-1]\r\n",
    "            sd.store_mem(loc, val)\r\n",
    "    print(abs(sd))\r\n",
    "\r\n",
    "\r\n",
    "d14(d14tdata1)\r\n",
    "        "
   ]
  },
  {
   "cell_type": "code",
   "execution_count": 218,
   "metadata": {},
   "outputs": [
    {
     "name": "stdout",
     "output_type": "stream",
     "text": [
      "14553106347726\n"
     ]
    }
   ],
   "source": [
    "d14(d14data)"
   ]
  },
  {
   "cell_type": "code",
   "execution_count": 243,
   "metadata": {},
   "outputs": [
    {
     "name": "stdout",
     "output_type": "stream",
     "text": [
      "2737766154126\n"
     ]
    }
   ],
   "source": [
    "def mem_decode(mem_code):\r\n",
    "    pos_mem = [[]]\r\n",
    "    for place in mem_code:\r\n",
    "        if place == 2:\r\n",
    "            n_mem = []\r\n",
    "            for mem in pos_mem:\r\n",
    "                mem0 = mem.copy()\r\n",
    "                mem1 = mem.copy()\r\n",
    "                mem0.append(0)\r\n",
    "                mem1.append(1)\r\n",
    "                n_mem.append(mem0)\r\n",
    "                n_mem.append(mem1)\r\n",
    "            pos_mem = n_mem\r\n",
    "        else:\r\n",
    "            for mem in pos_mem:\r\n",
    "                mem.append(place)\r\n",
    "    return pos_mem\r\n",
    "\r\n",
    "class space_dock_v2(space_dock):\r\n",
    "    def store_mem(self, loc, val):\r\n",
    "        val = val_to_36bitstring(val)\r\n",
    "        loc = val_to_36bitstring(loc)\r\n",
    "        loc = self.apply_mask(loc)\r\n",
    "        locs = mem_decode(loc)\r\n",
    "        for loc in locs:\r\n",
    "            adr = bitstring_to_val(loc)\r\n",
    "            self.mem[adr] = val\r\n",
    "\r\n",
    "\r\n",
    "    def apply_mask(self, val):\r\n",
    "        for ii, bit in enumerate(self.bit_mask):\r\n",
    "            if bit == 'X':\r\n",
    "                val[ii] = 2\r\n",
    "            if bit == '0':\r\n",
    "                continue\r\n",
    "            if bit == '1':\r\n",
    "                val[ii] = 1\r\n",
    "        return val\r\n",
    "        \r\n",
    "d14(d14data, space_dock_v2)"
   ]
  }
 ],
 "metadata": {
  "kernelspec": {
   "display_name": "Python 3",
   "language": "python",
   "name": "python3"
  },
  "language_info": {
   "codemirror_mode": {
    "name": "ipython",
    "version": 3
   },
   "file_extension": ".py",
   "mimetype": "text/x-python",
   "name": "python",
   "nbconvert_exporter": "python",
   "pygments_lexer": "ipython3",
   "version": "3.8.5"
  },
  "orig_nbformat": 2
 },
 "nbformat": 4,
 "nbformat_minor": 2
}