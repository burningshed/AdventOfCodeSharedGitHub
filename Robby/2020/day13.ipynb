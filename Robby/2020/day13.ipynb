{
 "cells": [
  {
   "cell_type": "code",
   "execution_count": 3,
   "metadata": {},
   "outputs": [],
   "source": [
    "import sys\r\n",
    "import importlib\r\n",
    "import numpy as np\r\n",
    "u_path = \"../lib\"\r\n",
    "if not u_path in sys.path:\r\n",
    "    sys.path.append(u_path)\r\n",
    "import autoloader\r\n",
    "importlib.reload(autoloader)\r\n",
    "al = autoloader.Autoloader()"
   ]
  },
  {
   "cell_type": "code",
   "execution_count": 4,
   "metadata": {},
   "outputs": [],
   "source": [
    "d13data = al.f_fetch_as_iter(2020, 13)\r\n"
   ]
  },
  {
   "cell_type": "code",
   "execution_count": 89,
   "metadata": {},
   "outputs": [],
   "source": [
    "tdata1 = \"\"\"939\r\n",
    "7,13,x,x,59,x,31,19\"\"\"\r\n",
    "tdata1 = tdata1.splitlines()\r\n",
    "tdata2 = \"\"\"939\r\n",
    "x,x,3,5\"\"\"\r\n",
    "tdata2 = tdata2.splitlines()"
   ]
  },
  {
   "cell_type": "markdown",
   "metadata": {},
   "source": [
    "I think this is an application of the CRT.\r\n",
    "let x be the solution.\r\n",
    "x mod a0 = 0\r\n",
    "x mod a1 = 1\r\n",
    "....\r\n",
    "x mod an = n - number of skipped busses\r\n",
    "\r\n",
    "so the bus IDs are probably relatively prime, the position on the list is the remainder (a_k)\r\n",
    "\r\n",
    "M_k is the product of all bus IDs except for the kth\r\n",
    "y_k satisfies M_k y_k \\congruent 1 (mod m_k)\r\n",
    "\r\n",
    "x = a_1 M_1 y_1 + ... + a_n M_n y_n\r\n"
   ]
  },
  {
   "cell_type": "code",
   "execution_count": 138,
   "metadata": {},
   "outputs": [],
   "source": [
    "class d13():\r\n",
    "    def __init__(self, sched):\r\n",
    "        self.time = int(sched[0])\r\n",
    "        self.bus_list = {}\r\n",
    "        for ii, bus in enumerate(sched[1].split(',')):\r\n",
    "            if bus == 'x':\r\n",
    "                continue\r\n",
    "            self.bus_list[int(bus)] = ii\r\n",
    "\r\n",
    "        \r\n",
    "    def find_first_bus(self):\r\n",
    "        cur_bus_status = {bus: bus - self.time%bus for bus in self.bus_list}\r\n",
    "        first_bus = min(cur_bus_status, key=cur_bus_status.get)\r\n",
    "        return first_bus * cur_bus_status[first_bus]\r\n",
    "    \r\n",
    "    def find_part2_sol(self):\r\n",
    "        m = np.prod(np.fromiter(self.bus_list.keys(), np.int))\r\n",
    "        mk = np.fromiter(map(lambda k: m/k, self.bus_list), np.int)\r\n",
    "        ak = np.fromiter(self.bus_list.values(), np.int)\r\n",
    "        yk = np.fromiter((pow(int(mk[ii]), -1, modulo) for ii, modulo in enumerate(self.bus_list.keys())), np.int)\r\n",
    "        print(mk, ak, yk, m, m/7)\r\n",
    "\r\n",
    "\r\n",
    "        ans = np.sum(np.fromiter((mk[ii] * ak[ii] * yk[ii] for ii in range(len(mk))), np.int))\r\n",
    "        return ans%m\r\n",
    "\r\n",
    "def CRT(p_r_pairs) -> int:\r\n",
    "    from itertools import repeat\r\n",
    "    \"\"\" \r\n",
    "    Function takes a numpy array of relatively prime numbers and the remainders \r\n",
    "    and uses Chinese Remainder Theorem to find the solve the system of linear congruences \r\n",
    "\r\n",
    "    in: p_r_pairs : numpy array in form:\r\n",
    "    ((p0, r0)\r\n",
    "     (p1, r1)\r\n",
    "     ...\r\n",
    "     (pn, rn))\r\n",
    "\r\n",
    "    out: x given\r\n",
    "    X = r0 M0 y0 + ... + rn Mn yn = x (mod M)\r\n",
    "\r\n",
    "    where: \r\n",
    "    Mk = M / pk, \r\n",
    "    yk = pow(Mk, -1, pk) \r\n",
    "        (the inverse modulo) \r\n",
    "    M = prod(p0, ..., pn)\r\n",
    "\r\n",
    "    \"\"\"\r\n",
    "\r\n",
    "    M = np.prod(p_r_pairs[:,0])\r\n",
    "    Mk = np.divide(M, p_r_pairs[:,0]).astype(int)\r\n",
    "    yk = np.fromiter(map(pow, map(int, Mk),repeat(-1),map(int,p_r_pairs[:,0])), dtype=np.int)\r\n",
    "    X = np.sum(p_r_pairs[:,1] * Mk * yk)\r\n",
    "    return X % M\r\n",
    "\r\n",
    "\r\n",
    "\r\n",
    "            "
   ]
  },
  {
   "cell_type": "code",
   "execution_count": 91,
   "metadata": {},
   "outputs": [
    {
     "name": "stdout",
     "output_type": "stream",
     "text": [
      "[5 3] [2 3] [2 2] 15 2.142857142857143\n",
      "8\n"
     ]
    }
   ],
   "source": [
    "test = d13(tdata2)\r\n",
    "print(test.find_part2_sol())\r\n",
    "\r\n"
   ]
  },
  {
   "cell_type": "code",
   "execution_count": 139,
   "metadata": {},
   "outputs": [
    {
     "data": {
      "text/plain": "23"
     },
     "execution_count": 139,
     "metadata": {},
     "output_type": "execute_result"
    }
   ],
   "source": [
    "a = np.array(((3,2),(5,3),(7,2)))\r\n",
    "CRT(a)"
   ]
  },
  {
   "cell_type": "code",
   "execution_count": null,
   "metadata": {},
   "outputs": [
    {
     "name": "stdout",
     "output_type": "stream",
     "text": [
      "2215\n"
     ]
    }
   ],
   "source": [
    "test = d13(d13data)\r\n",
    "print(test.find_first_bus())\r\n",
    "\r\n"
   ]
  }
 ],
 "metadata": {
  "kernelspec": {
   "display_name": "Python 3",
   "language": "python",
   "name": "python3"
  },
  "language_info": {
   "codemirror_mode": {
    "name": "ipython",
    "version": 3
   },
   "file_extension": ".py",
   "mimetype": "text/x-python",
   "name": "python",
   "nbconvert_exporter": "python",
   "pygments_lexer": "ipython3",
   "version": "3.8.5"
  },
  "orig_nbformat": 2
 },
 "nbformat": 4,
 "nbformat_minor": 2
}